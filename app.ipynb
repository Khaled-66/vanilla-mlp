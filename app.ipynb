{
 "cells": [
  {
   "cell_type": "code",
   "execution_count": null,
   "id": "41b27ca7",
   "metadata": {},
   "outputs": [],
   "source": [
    "import numpy as np  \n",
    "\n",
    "class MLP(object):\n",
    "    def __init__(self, num_inputs=3, hidden_layers=[4,3,6,3], num_outputs=4):\n",
    "        self.num_inputs=num_inputs\n",
    "        self.hidden_layers=hidden_layers\n",
    "        self.num_outputs=num_outputs\n",
    "\n",
    "        layers=[num_inputs] + hidden_layers + [num_outputs]\n",
    "        weights = []\n",
    "        for i in range(len(layers)-1):\n",
    "            w = np.random.randn(layers[i], layers[i+1]) * 0.01\n",
    "            weights.append(w)\n",
    "        self.weights=weights\n",
    "\n",
    "    def forward_propagation(self, inputs):\n",
    "        activations = inputs\n",
    "        for w in self.weights:\n",
    "            z = np.dot(activations, w)\n",
    "            activations = self.sigmoid(z)\n",
    "        return activations\n",
    "    \n",
    "    def sigmoid(self, z):\n",
    "        return 1 / (1 + np.exp(-z))\n",
    "\n",
    "\n",
    "\n",
    "if __name__ == \"__main__\":\n",
    "\n",
    "    # create a Multilayer Perceptron\n",
    "    mlp = MLP()\n",
    "\n",
    "    # set random values for network's input\n",
    "    inputs = np.random.rand(mlp.num_inputs)\n",
    "\n",
    "    # perform forward propagation\n",
    "    output = mlp.forward_propagation(inputs)\n",
    "\n",
    "    print(\"Network activation: {}\".format(output))"
   ]
  }
 ],
 "metadata": {
  "kernelspec": {
   "display_name": "Python 3",
   "language": "python",
   "name": "python3"
  },
  "language_info": {
   "name": "python",
   "version": "3.12.2"
  }
 },
 "nbformat": 4,
 "nbformat_minor": 5
}
